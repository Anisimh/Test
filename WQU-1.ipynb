{
 "cells": [
  {
   "cell_type": "code",
   "execution_count": 1,
   "metadata": {},
   "outputs": [],
   "source": [
    "import matplotlib.pyplot as plt\n",
    "import seaborn as sns\n",
    "import pandas as pd\n",
    "import numpy as np\n",
    "%matplotlib inline"
   ]
  },
  {
   "cell_type": "code",
   "execution_count": 7,
   "metadata": {},
   "outputs": [],
   "source": [
    "from sklearn.datasets import fetch_california_housing\n",
    "data = fetch_california_housing()"
   ]
  },
  {
   "cell_type": "code",
   "execution_count": 24,
   "metadata": {},
   "outputs": [],
   "source": [
    "X = data['data']\n",
    "y = data['target']"
   ]
  },
  {
   "cell_type": "code",
   "execution_count": 30,
   "metadata": {},
   "outputs": [
    {
     "data": {
      "text/html": [
       "<div>\n",
       "<style scoped>\n",
       "    .dataframe tbody tr th:only-of-type {\n",
       "        vertical-align: middle;\n",
       "    }\n",
       "\n",
       "    .dataframe tbody tr th {\n",
       "        vertical-align: top;\n",
       "    }\n",
       "\n",
       "    .dataframe thead th {\n",
       "        text-align: right;\n",
       "    }\n",
       "</style>\n",
       "<table border=\"1\" class=\"dataframe\">\n",
       "  <thead>\n",
       "    <tr style=\"text-align: right;\">\n",
       "      <th></th>\n",
       "      <th>Actual</th>\n",
       "      <th>pred</th>\n",
       "    </tr>\n",
       "  </thead>\n",
       "  <tbody>\n",
       "    <tr>\n",
       "      <th>0</th>\n",
       "      <td>4.526</td>\n",
       "      <td>4.131650</td>\n",
       "    </tr>\n",
       "    <tr>\n",
       "      <th>1</th>\n",
       "      <td>3.585</td>\n",
       "      <td>3.976606</td>\n",
       "    </tr>\n",
       "    <tr>\n",
       "      <th>2</th>\n",
       "      <td>3.521</td>\n",
       "      <td>3.676571</td>\n",
       "    </tr>\n",
       "    <tr>\n",
       "      <th>3</th>\n",
       "      <td>3.413</td>\n",
       "      <td>3.241598</td>\n",
       "    </tr>\n",
       "    <tr>\n",
       "      <th>4</th>\n",
       "      <td>3.422</td>\n",
       "      <td>2.413587</td>\n",
       "    </tr>\n",
       "    <tr>\n",
       "      <th>...</th>\n",
       "      <td>...</td>\n",
       "      <td>...</td>\n",
       "    </tr>\n",
       "    <tr>\n",
       "      <th>20635</th>\n",
       "      <td>0.781</td>\n",
       "      <td>0.133656</td>\n",
       "    </tr>\n",
       "    <tr>\n",
       "      <th>20636</th>\n",
       "      <td>0.771</td>\n",
       "      <td>0.553528</td>\n",
       "    </tr>\n",
       "    <tr>\n",
       "      <th>20637</th>\n",
       "      <td>0.923</td>\n",
       "      <td>0.171251</td>\n",
       "    </tr>\n",
       "    <tr>\n",
       "      <th>20638</th>\n",
       "      <td>0.847</td>\n",
       "      <td>0.319105</td>\n",
       "    </tr>\n",
       "    <tr>\n",
       "      <th>20639</th>\n",
       "      <td>0.894</td>\n",
       "      <td>0.515804</td>\n",
       "    </tr>\n",
       "  </tbody>\n",
       "</table>\n",
       "<p>20640 rows × 2 columns</p>\n",
       "</div>"
      ],
      "text/plain": [
       "       Actual      pred\n",
       "0       4.526  4.131650\n",
       "1       3.585  3.976606\n",
       "2       3.521  3.676571\n",
       "3       3.413  3.241598\n",
       "4       3.422  2.413587\n",
       "...       ...       ...\n",
       "20635   0.781  0.133656\n",
       "20636   0.771  0.553528\n",
       "20637   0.923  0.171251\n",
       "20638   0.847  0.319105\n",
       "20639   0.894  0.515804\n",
       "\n",
       "[20640 rows x 2 columns]"
      ]
     },
     "execution_count": 30,
     "metadata": {},
     "output_type": "execute_result"
    }
   ],
   "source": [
    "from sklearn.linear_model import LinearRegression\n",
    "reg = LinearRegression()\n",
    "reg.fit(X,y)\n",
    "pred = reg.predict(X)\n",
    "pd.DataFrame({'Actual':y,'pred':pred})"
   ]
  },
  {
   "cell_type": "code",
   "execution_count": 31,
   "metadata": {},
   "outputs": [
    {
     "data": {
      "text/plain": [
       "array([ 4.36693293e-01,  9.43577803e-03, -1.07322041e-01,  6.45065694e-01,\n",
       "       -3.97638942e-06, -3.78654265e-03, -4.21314378e-01, -4.34513755e-01])"
      ]
     },
     "execution_count": 31,
     "metadata": {},
     "output_type": "execute_result"
    }
   ],
   "source": [
    "reg.coef_"
   ]
  },
  {
   "cell_type": "code",
   "execution_count": 32,
   "metadata": {},
   "outputs": [
    {
     "data": {
      "text/plain": [
       "-36.941920207184516"
      ]
     },
     "execution_count": 32,
     "metadata": {},
     "output_type": "execute_result"
    }
   ],
   "source": [
    "reg.intercept_"
   ]
  },
  {
   "cell_type": "code",
   "execution_count": 33,
   "metadata": {},
   "outputs": [
    {
     "data": {
      "text/plain": [
       "0.6062326851998051"
      ]
     },
     "execution_count": 33,
     "metadata": {},
     "output_type": "execute_result"
    }
   ],
   "source": [
    "reg.score(X,y) # For regression problems it is the R2 value while for classification problems it is accuracy."
   ]
  },
  {
   "cell_type": "code",
   "execution_count": 35,
   "metadata": {},
   "outputs": [
    {
     "data": {
      "text/html": [
       "<div>\n",
       "<style scoped>\n",
       "    .dataframe tbody tr th:only-of-type {\n",
       "        vertical-align: middle;\n",
       "    }\n",
       "\n",
       "    .dataframe tbody tr th {\n",
       "        vertical-align: top;\n",
       "    }\n",
       "\n",
       "    .dataframe thead th {\n",
       "        text-align: right;\n",
       "    }\n",
       "</style>\n",
       "<table border=\"1\" class=\"dataframe\">\n",
       "  <thead>\n",
       "    <tr style=\"text-align: right;\">\n",
       "      <th></th>\n",
       "      <th>Actual</th>\n",
       "      <th>pred</th>\n",
       "    </tr>\n",
       "  </thead>\n",
       "  <tbody>\n",
       "    <tr>\n",
       "      <th>0</th>\n",
       "      <td>4.526</td>\n",
       "      <td>4.264327</td>\n",
       "    </tr>\n",
       "    <tr>\n",
       "      <th>1</th>\n",
       "      <td>3.585</td>\n",
       "      <td>3.878645</td>\n",
       "    </tr>\n",
       "    <tr>\n",
       "      <th>2</th>\n",
       "      <td>3.521</td>\n",
       "      <td>3.920746</td>\n",
       "    </tr>\n",
       "    <tr>\n",
       "      <th>3</th>\n",
       "      <td>3.413</td>\n",
       "      <td>3.303439</td>\n",
       "    </tr>\n",
       "    <tr>\n",
       "      <th>4</th>\n",
       "      <td>3.422</td>\n",
       "      <td>2.612814</td>\n",
       "    </tr>\n",
       "    <tr>\n",
       "      <th>...</th>\n",
       "      <td>...</td>\n",
       "      <td>...</td>\n",
       "    </tr>\n",
       "    <tr>\n",
       "      <th>20635</th>\n",
       "      <td>0.781</td>\n",
       "      <td>0.636165</td>\n",
       "    </tr>\n",
       "    <tr>\n",
       "      <th>20636</th>\n",
       "      <td>0.771</td>\n",
       "      <td>0.908736</td>\n",
       "    </tr>\n",
       "    <tr>\n",
       "      <th>20637</th>\n",
       "      <td>0.923</td>\n",
       "      <td>0.636647</td>\n",
       "    </tr>\n",
       "    <tr>\n",
       "      <th>20638</th>\n",
       "      <td>0.847</td>\n",
       "      <td>0.747593</td>\n",
       "    </tr>\n",
       "    <tr>\n",
       "      <th>20639</th>\n",
       "      <td>0.894</td>\n",
       "      <td>0.799497</td>\n",
       "    </tr>\n",
       "  </tbody>\n",
       "</table>\n",
       "<p>20640 rows × 2 columns</p>\n",
       "</div>"
      ],
      "text/plain": [
       "       Actual      pred\n",
       "0       4.526  4.264327\n",
       "1       3.585  3.878645\n",
       "2       3.521  3.920746\n",
       "3       3.413  3.303439\n",
       "4       3.422  2.612814\n",
       "...       ...       ...\n",
       "20635   0.781  0.636165\n",
       "20636   0.771  0.908736\n",
       "20637   0.923  0.636647\n",
       "20638   0.847  0.747593\n",
       "20639   0.894  0.799497\n",
       "\n",
       "[20640 rows x 2 columns]"
      ]
     },
     "execution_count": 35,
     "metadata": {},
     "output_type": "execute_result"
    }
   ],
   "source": [
    "from sklearn.ensemble import GradientBoostingRegressor\n",
    "obj = GradientBoostingRegressor()\n",
    "obj.fit(X,y)\n",
    "y_pred = obj.predict(X)\n",
    "pd.DataFrame({'Actual':y,'pred':y_pred})"
   ]
  },
  {
   "cell_type": "code",
   "execution_count": 36,
   "metadata": {},
   "outputs": [
    {
     "data": {
      "text/plain": [
       "0.8033237500356991"
      ]
     },
     "execution_count": 36,
     "metadata": {},
     "output_type": "execute_result"
    }
   ],
   "source": [
    "obj.score(X,y)"
   ]
  },
  {
   "cell_type": "markdown",
   "metadata": {},
   "source": [
    "# Standard Scaler"
   ]
  },
  {
   "cell_type": "code",
   "execution_count": 51,
   "metadata": {},
   "outputs": [
    {
     "data": {
      "text/html": [
       "<div>\n",
       "<style scoped>\n",
       "    .dataframe tbody tr th:only-of-type {\n",
       "        vertical-align: middle;\n",
       "    }\n",
       "\n",
       "    .dataframe tbody tr th {\n",
       "        vertical-align: top;\n",
       "    }\n",
       "\n",
       "    .dataframe thead th {\n",
       "        text-align: right;\n",
       "    }\n",
       "</style>\n",
       "<table border=\"1\" class=\"dataframe\">\n",
       "  <thead>\n",
       "    <tr style=\"text-align: right;\">\n",
       "      <th></th>\n",
       "      <th>unscaled mean</th>\n",
       "      <th>unscaled variance</th>\n",
       "      <th>scaled mean</th>\n",
       "      <th>scaled variance</th>\n",
       "    </tr>\n",
       "  </thead>\n",
       "  <tbody>\n",
       "    <tr>\n",
       "      <th>MedInc</th>\n",
       "      <td>3.870671</td>\n",
       "      <td>3.609148e+00</td>\n",
       "      <td>6.609700e-17</td>\n",
       "      <td>1.0</td>\n",
       "    </tr>\n",
       "    <tr>\n",
       "      <th>HouseAge</th>\n",
       "      <td>28.639486</td>\n",
       "      <td>1.583886e+02</td>\n",
       "      <td>5.508083e-18</td>\n",
       "      <td>1.0</td>\n",
       "    </tr>\n",
       "    <tr>\n",
       "      <th>AveRooms</th>\n",
       "      <td>5.429000</td>\n",
       "      <td>6.121236e+00</td>\n",
       "      <td>6.609700e-17</td>\n",
       "      <td>1.0</td>\n",
       "    </tr>\n",
       "    <tr>\n",
       "      <th>AveBedrms</th>\n",
       "      <td>1.096675</td>\n",
       "      <td>2.245806e-01</td>\n",
       "      <td>-1.060306e-16</td>\n",
       "      <td>1.0</td>\n",
       "    </tr>\n",
       "    <tr>\n",
       "      <th>Population</th>\n",
       "      <td>1425.476744</td>\n",
       "      <td>1.282408e+06</td>\n",
       "      <td>-1.101617e-17</td>\n",
       "      <td>1.0</td>\n",
       "    </tr>\n",
       "    <tr>\n",
       "      <th>AveOccup</th>\n",
       "      <td>3.070655</td>\n",
       "      <td>1.078648e+02</td>\n",
       "      <td>3.442552e-18</td>\n",
       "      <td>1.0</td>\n",
       "    </tr>\n",
       "    <tr>\n",
       "      <th>Latitude</th>\n",
       "      <td>35.631861</td>\n",
       "      <td>4.562072e+00</td>\n",
       "      <td>-1.079584e-15</td>\n",
       "      <td>1.0</td>\n",
       "    </tr>\n",
       "    <tr>\n",
       "      <th>Longitude</th>\n",
       "      <td>-119.569704</td>\n",
       "      <td>4.013945e+00</td>\n",
       "      <td>-8.526513e-15</td>\n",
       "      <td>1.0</td>\n",
       "    </tr>\n",
       "  </tbody>\n",
       "</table>\n",
       "</div>"
      ],
      "text/plain": [
       "            unscaled mean  unscaled variance   scaled mean  scaled variance\n",
       "MedInc           3.870671       3.609148e+00  6.609700e-17              1.0\n",
       "HouseAge        28.639486       1.583886e+02  5.508083e-18              1.0\n",
       "AveRooms         5.429000       6.121236e+00  6.609700e-17              1.0\n",
       "AveBedrms        1.096675       2.245806e-01 -1.060306e-16              1.0\n",
       "Population    1425.476744       1.282408e+06 -1.101617e-17              1.0\n",
       "AveOccup         3.070655       1.078648e+02  3.442552e-18              1.0\n",
       "Latitude        35.631861       4.562072e+00 -1.079584e-15              1.0\n",
       "Longitude     -119.569704       4.013945e+00 -8.526513e-15              1.0"
      ]
     },
     "execution_count": 51,
     "metadata": {},
     "output_type": "execute_result"
    }
   ],
   "source": [
    "from sklearn.preprocessing import StandardScaler\n",
    "scaler = StandardScaler()\n",
    "scaler.fit(X)\n",
    "X_t = scaler.transform(X)\n",
    "stats = np.vstack((X.mean(axis=0),X.var(axis=0),X_t.mean(axis=0),X_t.var(axis=0))).T\n",
    "pd.DataFrame(stats,index=data['feature_names'],columns=['unscaled mean','unscaled variance','scaled mean','scaled variance'])"
   ]
  },
  {
   "cell_type": "markdown",
   "metadata": {},
   "source": [
    "# Pipeline"
   ]
  },
  {
   "cell_type": "code",
   "execution_count": 58,
   "metadata": {},
   "outputs": [],
   "source": [
    "from sklearn.pipeline import Pipeline\n",
    "from sklearn.preprocessing import PolynomialFeatures\n",
    "pipe = Pipeline([\n",
    "    ('Scaler',StandardScaler()),\n",
    "    ('Poly',PolynomialFeatures(degree=3)),\n",
    "    ('Linear',LinearRegression())\n",
    "])"
   ]
  },
  {
   "cell_type": "code",
   "execution_count": 59,
   "metadata": {},
   "outputs": [
    {
     "data": {
      "text/plain": [
       "{'Scaler': StandardScaler(),\n",
       " 'Poly': PolynomialFeatures(degree=3),\n",
       " 'Linear': LinearRegression()}"
      ]
     },
     "execution_count": 59,
     "metadata": {},
     "output_type": "execute_result"
    }
   ],
   "source": [
    "pipe.named_steps"
   ]
  },
  {
   "cell_type": "code",
   "execution_count": 60,
   "metadata": {},
   "outputs": [
    {
     "data": {
      "text/html": [
       "<div>\n",
       "<style scoped>\n",
       "    .dataframe tbody tr th:only-of-type {\n",
       "        vertical-align: middle;\n",
       "    }\n",
       "\n",
       "    .dataframe tbody tr th {\n",
       "        vertical-align: top;\n",
       "    }\n",
       "\n",
       "    .dataframe thead th {\n",
       "        text-align: right;\n",
       "    }\n",
       "</style>\n",
       "<table border=\"1\" class=\"dataframe\">\n",
       "  <thead>\n",
       "    <tr style=\"text-align: right;\">\n",
       "      <th></th>\n",
       "      <th>Actual</th>\n",
       "      <th>pred</th>\n",
       "    </tr>\n",
       "  </thead>\n",
       "  <tbody>\n",
       "    <tr>\n",
       "      <th>0</th>\n",
       "      <td>4.526</td>\n",
       "      <td>4.087953</td>\n",
       "    </tr>\n",
       "    <tr>\n",
       "      <th>1</th>\n",
       "      <td>3.585</td>\n",
       "      <td>4.235454</td>\n",
       "    </tr>\n",
       "    <tr>\n",
       "      <th>2</th>\n",
       "      <td>3.521</td>\n",
       "      <td>4.201542</td>\n",
       "    </tr>\n",
       "    <tr>\n",
       "      <th>3</th>\n",
       "      <td>3.413</td>\n",
       "      <td>3.396868</td>\n",
       "    </tr>\n",
       "    <tr>\n",
       "      <th>4</th>\n",
       "      <td>3.422</td>\n",
       "      <td>2.658212</td>\n",
       "    </tr>\n",
       "    <tr>\n",
       "      <th>...</th>\n",
       "      <td>...</td>\n",
       "      <td>...</td>\n",
       "    </tr>\n",
       "    <tr>\n",
       "      <th>20635</th>\n",
       "      <td>0.781</td>\n",
       "      <td>0.662607</td>\n",
       "    </tr>\n",
       "    <tr>\n",
       "      <th>20636</th>\n",
       "      <td>0.771</td>\n",
       "      <td>0.672557</td>\n",
       "    </tr>\n",
       "    <tr>\n",
       "      <th>20637</th>\n",
       "      <td>0.923</td>\n",
       "      <td>0.822924</td>\n",
       "    </tr>\n",
       "    <tr>\n",
       "      <th>20638</th>\n",
       "      <td>0.847</td>\n",
       "      <td>0.890361</td>\n",
       "    </tr>\n",
       "    <tr>\n",
       "      <th>20639</th>\n",
       "      <td>0.894</td>\n",
       "      <td>0.847117</td>\n",
       "    </tr>\n",
       "  </tbody>\n",
       "</table>\n",
       "<p>20640 rows × 2 columns</p>\n",
       "</div>"
      ],
      "text/plain": [
       "       Actual      pred\n",
       "0       4.526  4.087953\n",
       "1       3.585  4.235454\n",
       "2       3.521  4.201542\n",
       "3       3.413  3.396868\n",
       "4       3.422  2.658212\n",
       "...       ...       ...\n",
       "20635   0.781  0.662607\n",
       "20636   0.771  0.672557\n",
       "20637   0.923  0.822924\n",
       "20638   0.847  0.890361\n",
       "20639   0.894  0.847117\n",
       "\n",
       "[20640 rows x 2 columns]"
      ]
     },
     "execution_count": 60,
     "metadata": {},
     "output_type": "execute_result"
    }
   ],
   "source": [
    "pipe.fit(X,y) # 1. xt = scaler.fit_transform(X) 2. xt = poly.fit_transform(xt) 3. lin_reg.fit(xt,y)\n",
    "y_pred = pipe.predict(X) # 1. xt = scaler.fit_transform(X) 2. xt = poly.fit_transform(xt) 3. lin_reg.predict(xt,y)\n",
    "pd.DataFrame({'Actual':y,'pred':y_pred})"
   ]
  },
  {
   "cell_type": "code",
   "execution_count": 61,
   "metadata": {},
   "outputs": [
    {
     "data": {
      "text/plain": [
       "0.7385168108924949"
      ]
     },
     "execution_count": 61,
     "metadata": {},
     "output_type": "execute_result"
    }
   ],
   "source": [
    "pipe.score(X,y)"
   ]
  },
  {
   "cell_type": "markdown",
   "metadata": {},
   "source": [
    "# Feature-Union"
   ]
  },
  {
   "cell_type": "code",
   "execution_count": 63,
   "metadata": {},
   "outputs": [
    {
     "data": {
      "text/html": [
       "<div>\n",
       "<style scoped>\n",
       "    .dataframe tbody tr th:only-of-type {\n",
       "        vertical-align: middle;\n",
       "    }\n",
       "\n",
       "    .dataframe tbody tr th {\n",
       "        vertical-align: top;\n",
       "    }\n",
       "\n",
       "    .dataframe thead th {\n",
       "        text-align: right;\n",
       "    }\n",
       "</style>\n",
       "<table border=\"1\" class=\"dataframe\">\n",
       "  <thead>\n",
       "    <tr style=\"text-align: right;\">\n",
       "      <th></th>\n",
       "      <th>Actual</th>\n",
       "      <th>Pred</th>\n",
       "    </tr>\n",
       "  </thead>\n",
       "  <tbody>\n",
       "    <tr>\n",
       "      <th>0</th>\n",
       "      <td>4.526</td>\n",
       "      <td>4.213849</td>\n",
       "    </tr>\n",
       "    <tr>\n",
       "      <th>1</th>\n",
       "      <td>3.585</td>\n",
       "      <td>4.002325</td>\n",
       "    </tr>\n",
       "    <tr>\n",
       "      <th>2</th>\n",
       "      <td>3.521</td>\n",
       "      <td>3.608752</td>\n",
       "    </tr>\n",
       "    <tr>\n",
       "      <th>3</th>\n",
       "      <td>3.413</td>\n",
       "      <td>3.229705</td>\n",
       "    </tr>\n",
       "    <tr>\n",
       "      <th>4</th>\n",
       "      <td>3.422</td>\n",
       "      <td>2.201045</td>\n",
       "    </tr>\n",
       "    <tr>\n",
       "      <th>...</th>\n",
       "      <td>...</td>\n",
       "      <td>...</td>\n",
       "    </tr>\n",
       "    <tr>\n",
       "      <th>20635</th>\n",
       "      <td>0.781</td>\n",
       "      <td>0.943583</td>\n",
       "    </tr>\n",
       "    <tr>\n",
       "      <th>20636</th>\n",
       "      <td>0.771</td>\n",
       "      <td>1.307205</td>\n",
       "    </tr>\n",
       "    <tr>\n",
       "      <th>20637</th>\n",
       "      <td>0.923</td>\n",
       "      <td>0.849467</td>\n",
       "    </tr>\n",
       "    <tr>\n",
       "      <th>20638</th>\n",
       "      <td>0.847</td>\n",
       "      <td>0.971044</td>\n",
       "    </tr>\n",
       "    <tr>\n",
       "      <th>20639</th>\n",
       "      <td>0.894</td>\n",
       "      <td>1.221766</td>\n",
       "    </tr>\n",
       "  </tbody>\n",
       "</table>\n",
       "<p>20640 rows × 2 columns</p>\n",
       "</div>"
      ],
      "text/plain": [
       "       Actual      Pred\n",
       "0       4.526  4.213849\n",
       "1       3.585  4.002325\n",
       "2       3.521  3.608752\n",
       "3       3.413  3.229705\n",
       "4       3.422  2.201045\n",
       "...       ...       ...\n",
       "20635   0.781  0.943583\n",
       "20636   0.771  1.307205\n",
       "20637   0.923  0.849467\n",
       "20638   0.847  0.971044\n",
       "20639   0.894  1.221766\n",
       "\n",
       "[20640 rows x 2 columns]"
      ]
     },
     "execution_count": 63,
     "metadata": {},
     "output_type": "execute_result"
    }
   ],
   "source": [
    "from sklearn.feature_selection import f_regression, SelectKBest\n",
    "from sklearn.decomposition import PCA\n",
    "from sklearn.pipeline import FeatureUnion\n",
    "scaler = StandardScaler()\n",
    "pca = PCA(n_components=4)\n",
    "selector = SelectKBest(f_regression,k=2)\n",
    "pca_pipe = Pipeline([('Scaler',scaler),('PCA',pca)])\n",
    "union = FeatureUnion([('pca_pipe',pca_pipe),('Selector',selector)])\n",
    "pipe = Pipeline([('Union',union),('lin_reg',LinearRegression())])\n",
    "pipe.fit(X,y)\n",
    "y_pred = pipe.predict(X)\n",
    "pd.DataFrame({'Actual':y,'Pred':y_pred})"
   ]
  },
  {
   "cell_type": "code",
   "execution_count": 64,
   "metadata": {},
   "outputs": [
    {
     "data": {
      "text/plain": [
       "0.528813008876781"
      ]
     },
     "execution_count": 64,
     "metadata": {},
     "output_type": "execute_result"
    }
   ],
   "source": [
    "pipe.score(X,y)"
   ]
  },
  {
   "cell_type": "code",
   "execution_count": 69,
   "metadata": {},
   "outputs": [
    {
     "data": {
      "text/plain": [
       "(8, 6)"
      ]
     },
     "execution_count": 69,
     "metadata": {},
     "output_type": "execute_result"
    }
   ],
   "source": [
    "X.shape[-1], union.transform(X).shape[-1]"
   ]
  },
  {
   "cell_type": "code",
   "execution_count": 71,
   "metadata": {},
   "outputs": [],
   "source": [
    "np.percentile?"
   ]
  },
  {
   "cell_type": "code",
   "execution_count": null,
   "metadata": {},
   "outputs": [],
   "source": []
  }
 ],
 "metadata": {
  "kernelspec": {
   "display_name": "Python 3",
   "language": "python",
   "name": "python3"
  },
  "language_info": {
   "codemirror_mode": {
    "name": "ipython",
    "version": 3
   },
   "file_extension": ".py",
   "mimetype": "text/x-python",
   "name": "python",
   "nbconvert_exporter": "python",
   "pygments_lexer": "ipython3",
   "version": "3.8.3"
  }
 },
 "nbformat": 4,
 "nbformat_minor": 2
}
